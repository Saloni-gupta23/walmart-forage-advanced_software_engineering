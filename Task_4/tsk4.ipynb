{
 "cells": [
  {
   "cell_type": "code",
   "execution_count": 1,
   "id": "c7b06571-639b-451c-bd13-b661a46f3b37",
   "metadata": {},
   "outputs": [
    {
     "name": "stdout",
     "output_type": "stream",
     "text": [
      "Connected to the database successfully!\n"
     ]
    }
   ],
   "source": [
    "import sqlite3\n",
    "\n",
    "# Connect to the SQLite database\n",
    "conn = sqlite3.connect(\"shipping_data.db\")  # Ensure this matches the provided database file\n",
    "cursor = conn.cursor()\n",
    "\n",
    "print(\"Connected to the database successfully!\")"
   ]
  },
  {
   "cell_type": "code",
   "execution_count": 2,
   "id": "67b7df7a-c8d7-4c53-bdaa-fdf81ed5a97e",
   "metadata": {},
   "outputs": [
    {
     "data": {
      "text/html": [
       "<div>\n",
       "<style scoped>\n",
       "    .dataframe tbody tr th:only-of-type {\n",
       "        vertical-align: middle;\n",
       "    }\n",
       "\n",
       "    .dataframe tbody tr th {\n",
       "        vertical-align: top;\n",
       "    }\n",
       "\n",
       "    .dataframe thead th {\n",
       "        text-align: right;\n",
       "    }\n",
       "</style>\n",
       "<table border=\"1\" class=\"dataframe\">\n",
       "  <thead>\n",
       "    <tr style=\"text-align: right;\">\n",
       "      <th></th>\n",
       "      <th>origin_warehouse</th>\n",
       "      <th>destination_store</th>\n",
       "      <th>product</th>\n",
       "      <th>on_time</th>\n",
       "      <th>product_quantity</th>\n",
       "      <th>driver_identifier</th>\n",
       "    </tr>\n",
       "  </thead>\n",
       "  <tbody>\n",
       "    <tr>\n",
       "      <th>0</th>\n",
       "      <td>d5566b15-b071-4acf-8e8e-c98433083b2d</td>\n",
       "      <td>50d33715-4c77-4dd9-8b9d-ff1ca372a2a2</td>\n",
       "      <td>lotion</td>\n",
       "      <td>True</td>\n",
       "      <td>59</td>\n",
       "      <td>d8da0460-cf39-4f38-9fff-6c9b4e344d8a</td>\n",
       "    </tr>\n",
       "    <tr>\n",
       "      <th>1</th>\n",
       "      <td>c42f0de8-b4f0-4167-abd1-ae79e5e18eea</td>\n",
       "      <td>172eb8f3-1033-4fb6-b66b-d0df09df3161</td>\n",
       "      <td>windows</td>\n",
       "      <td>True</td>\n",
       "      <td>28</td>\n",
       "      <td>293ccaec-6592-4f04-aae5-3e238fe62614</td>\n",
       "    </tr>\n",
       "    <tr>\n",
       "      <th>2</th>\n",
       "      <td>b145f396-de9b-42f1-9cc9-f5b52c3a941c</td>\n",
       "      <td>65e4544d-42ae-4751-9580-bdcb90e5fcda</td>\n",
       "      <td>skis</td>\n",
       "      <td>True</td>\n",
       "      <td>63</td>\n",
       "      <td>80988f09-91a3-4e1b-8e69-13551c53f318</td>\n",
       "    </tr>\n",
       "    <tr>\n",
       "      <th>3</th>\n",
       "      <td>f4372224-759f-43b3-bc83-ca6106bba1af</td>\n",
       "      <td>745bee4e-710c-4538-8df1-5c146e1092a6</td>\n",
       "      <td>bikes</td>\n",
       "      <td>True</td>\n",
       "      <td>47</td>\n",
       "      <td>5f79b402-655f-4d8e-8ff3-5ef05870e0ad</td>\n",
       "    </tr>\n",
       "    <tr>\n",
       "      <th>4</th>\n",
       "      <td>49d0edae-9091-41bb-a08d-ab1c66bd08d5</td>\n",
       "      <td>425b7a1a-b744-4c6b-898e-d424dd8cf18e</td>\n",
       "      <td>candy</td>\n",
       "      <td>False</td>\n",
       "      <td>73</td>\n",
       "      <td>58beb5d3-98f8-4077-a964-1f04f7cb11e5</td>\n",
       "    </tr>\n",
       "  </tbody>\n",
       "</table>\n",
       "</div>"
      ],
      "text/plain": [
       "                       origin_warehouse                     destination_store  \\\n",
       "0  d5566b15-b071-4acf-8e8e-c98433083b2d  50d33715-4c77-4dd9-8b9d-ff1ca372a2a2   \n",
       "1  c42f0de8-b4f0-4167-abd1-ae79e5e18eea  172eb8f3-1033-4fb6-b66b-d0df09df3161   \n",
       "2  b145f396-de9b-42f1-9cc9-f5b52c3a941c  65e4544d-42ae-4751-9580-bdcb90e5fcda   \n",
       "3  f4372224-759f-43b3-bc83-ca6106bba1af  745bee4e-710c-4538-8df1-5c146e1092a6   \n",
       "4  49d0edae-9091-41bb-a08d-ab1c66bd08d5  425b7a1a-b744-4c6b-898e-d424dd8cf18e   \n",
       "\n",
       "   product  on_time  product_quantity                     driver_identifier  \n",
       "0   lotion     True                59  d8da0460-cf39-4f38-9fff-6c9b4e344d8a  \n",
       "1  windows     True                28  293ccaec-6592-4f04-aae5-3e238fe62614  \n",
       "2     skis     True                63  80988f09-91a3-4e1b-8e69-13551c53f318  \n",
       "3    bikes     True                47  5f79b402-655f-4d8e-8ff3-5ef05870e0ad  \n",
       "4    candy    False                73  58beb5d3-98f8-4077-a964-1f04f7cb11e5  "
      ]
     },
     "execution_count": 2,
     "metadata": {},
     "output_type": "execute_result"
    }
   ],
   "source": [
    "import pandas as pd\n",
    "\n",
    "# Load Spreadsheet 0 (update the filename if needed)\n",
    "df = pd.read_csv(r\"C:\\Users\\Saloni Gupta\\Desktop\\forage-walmart-task-4-main\\data\\shipping_data_0.csv\")  \n",
    "\n",
    "# Display the first few rows to check the data\n",
    "df.head()"
   ]
  },
  {
   "cell_type": "code",
   "execution_count": 3,
   "id": "5507711f-1ba8-42d4-bf50-b94edb078941",
   "metadata": {},
   "outputs": [
    {
     "name": "stdout",
     "output_type": "stream",
     "text": [
      "Data from Spreadsheet 0 inserted successfully!\n"
     ]
    }
   ],
   "source": [
    "df.to_sql(\"shipping_table\", conn, if_exists=\"append\", index=False)\n",
    "print(\"Data from Spreadsheet 0 inserted successfully!\")"
   ]
  },
  {
   "cell_type": "code",
   "execution_count": 4,
   "id": "95e72560-3738-4135-bfbb-9b48d0a54058",
   "metadata": {},
   "outputs": [
    {
     "name": "stdout",
     "output_type": "stream",
     "text": [
      "[('d5566b15-b071-4acf-8e8e-c98433083b2d', '50d33715-4c77-4dd9-8b9d-ff1ca372a2a2', 'lotion', 1, 59, 'd8da0460-cf39-4f38-9fff-6c9b4e344d8a'), ('c42f0de8-b4f0-4167-abd1-ae79e5e18eea', '172eb8f3-1033-4fb6-b66b-d0df09df3161', 'windows', 1, 28, '293ccaec-6592-4f04-aae5-3e238fe62614'), ('b145f396-de9b-42f1-9cc9-f5b52c3a941c', '65e4544d-42ae-4751-9580-bdcb90e5fcda', 'skis', 1, 63, '80988f09-91a3-4e1b-8e69-13551c53f318'), ('f4372224-759f-43b3-bc83-ca6106bba1af', '745bee4e-710c-4538-8df1-5c146e1092a6', 'bikes', 1, 47, '5f79b402-655f-4d8e-8ff3-5ef05870e0ad'), ('49d0edae-9091-41bb-a08d-ab1c66bd08d5', '425b7a1a-b744-4c6b-898e-d424dd8cf18e', 'candy', 0, 73, '58beb5d3-98f8-4077-a964-1f04f7cb11e5')]\n"
     ]
    }
   ],
   "source": [
    "cursor.execute(\"SELECT * FROM shipping_table LIMIT 5\")\n",
    "print(cursor.fetchall())"
   ]
  },
  {
   "cell_type": "code",
   "execution_count": 5,
   "id": "dd20366d-23ba-49ae-94be-64925a09b6b2",
   "metadata": {},
   "outputs": [
    {
     "data": {
      "text/plain": [
       "(                    shipment_identifier    product  on_time\n",
       " 0  449263b4-6c93-4f19-8b6a-0d99a29fc637      pants    False\n",
       " 1  449263b4-6c93-4f19-8b6a-0d99a29fc637      pants    False\n",
       " 2  449263b4-6c93-4f19-8b6a-0d99a29fc637      pants    False\n",
       " 3  449263b4-6c93-4f19-8b6a-0d99a29fc637  keyboards    False\n",
       " 4  449263b4-6c93-4f19-8b6a-0d99a29fc637  keyboards    False,\n",
       "                     shipment_identifier                      origin_warehouse  \\\n",
       " 0  449263b4-6c93-4f19-8b6a-0d99a29fc637  bb75bf7d-c008-4267-bf92-6089cff5fe56   \n",
       " 1  76e5b84a-9d09-4efb-8b43-a0c932b958bb  372fd2b1-b2a7-4553-b6d7-426a1bc88e56   \n",
       " 2  b541a47d-89b1-4805-97d0-1988832321f1  469d957f-28ef-4eac-956a-d2a42b06d3ab   \n",
       " 3  3fc6b63d-27b4-408c-b3b3-e8e94a45b079  cd140190-a53b-4660-a5b4-cc844a6506f0   \n",
       " 4  491ee4e8-be80-4f52-802b-d8fe1a6bd487  c6addf8b-eea6-43b8-9040-b5620b1a0d99   \n",
       " \n",
       "                       destination_store                     driver_identifier  \n",
       " 0  5e9405de-a078-4b00-99c6-96564568b63c  c12025e6-6f9c-4728-8c3c-9f840bde6f1a  \n",
       " 1  e34973c8-9ca9-4a06-b497-7a8b49625fc2  85b8d394-a67c-48b6-b1de-55be323ba622  \n",
       " 2  fcadc756-61e9-41bb-871b-d3546c5aa981  47bdfc40-f3db-4678-b6a7-43f1e1c2fd32  \n",
       " 3  89ba200c-ca90-443a-b64f-397bce091eae  5ae3e541-2098-45b6-8d94-35d176185606  \n",
       " 4  7aebe820-8478-4a29-a606-7c59af677e24  1f228b52-7165-4d7f-a731-3f7707aefb2a  )"
      ]
     },
     "execution_count": 5,
     "metadata": {},
     "output_type": "execute_result"
    }
   ],
   "source": [
    "df1 = pd.read_csv(r\"C:\\Users\\Saloni Gupta\\Desktop\\forage-walmart-task-4-main\\data\\shipping_data_1.csv\")\n",
    "df2 = pd.read_csv(r\"C:\\Users\\Saloni Gupta\\Desktop\\forage-walmart-task-4-main\\data\\shipping_data_2.csv\")\n",
    "df1.head(), df2.head()"
   ]
  },
  {
   "cell_type": "code",
   "execution_count": 6,
   "id": "25c3948d-b2d0-458c-8a31-6ef962adf1a6",
   "metadata": {},
   "outputs": [
    {
     "data": {
      "text/html": [
       "<div>\n",
       "<style scoped>\n",
       "    .dataframe tbody tr th:only-of-type {\n",
       "        vertical-align: middle;\n",
       "    }\n",
       "\n",
       "    .dataframe tbody tr th {\n",
       "        vertical-align: top;\n",
       "    }\n",
       "\n",
       "    .dataframe thead th {\n",
       "        text-align: right;\n",
       "    }\n",
       "</style>\n",
       "<table border=\"1\" class=\"dataframe\">\n",
       "  <thead>\n",
       "    <tr style=\"text-align: right;\">\n",
       "      <th></th>\n",
       "      <th>shipment_identifier</th>\n",
       "      <th>product</th>\n",
       "      <th>on_time</th>\n",
       "      <th>origin_warehouse</th>\n",
       "      <th>destination_store</th>\n",
       "      <th>driver_identifier</th>\n",
       "    </tr>\n",
       "  </thead>\n",
       "  <tbody>\n",
       "    <tr>\n",
       "      <th>0</th>\n",
       "      <td>449263b4-6c93-4f19-8b6a-0d99a29fc637</td>\n",
       "      <td>pants</td>\n",
       "      <td>False</td>\n",
       "      <td>bb75bf7d-c008-4267-bf92-6089cff5fe56</td>\n",
       "      <td>5e9405de-a078-4b00-99c6-96564568b63c</td>\n",
       "      <td>c12025e6-6f9c-4728-8c3c-9f840bde6f1a</td>\n",
       "    </tr>\n",
       "    <tr>\n",
       "      <th>1</th>\n",
       "      <td>449263b4-6c93-4f19-8b6a-0d99a29fc637</td>\n",
       "      <td>pants</td>\n",
       "      <td>False</td>\n",
       "      <td>bb75bf7d-c008-4267-bf92-6089cff5fe56</td>\n",
       "      <td>5e9405de-a078-4b00-99c6-96564568b63c</td>\n",
       "      <td>c12025e6-6f9c-4728-8c3c-9f840bde6f1a</td>\n",
       "    </tr>\n",
       "    <tr>\n",
       "      <th>2</th>\n",
       "      <td>449263b4-6c93-4f19-8b6a-0d99a29fc637</td>\n",
       "      <td>pants</td>\n",
       "      <td>False</td>\n",
       "      <td>bb75bf7d-c008-4267-bf92-6089cff5fe56</td>\n",
       "      <td>5e9405de-a078-4b00-99c6-96564568b63c</td>\n",
       "      <td>c12025e6-6f9c-4728-8c3c-9f840bde6f1a</td>\n",
       "    </tr>\n",
       "    <tr>\n",
       "      <th>3</th>\n",
       "      <td>449263b4-6c93-4f19-8b6a-0d99a29fc637</td>\n",
       "      <td>keyboards</td>\n",
       "      <td>False</td>\n",
       "      <td>bb75bf7d-c008-4267-bf92-6089cff5fe56</td>\n",
       "      <td>5e9405de-a078-4b00-99c6-96564568b63c</td>\n",
       "      <td>c12025e6-6f9c-4728-8c3c-9f840bde6f1a</td>\n",
       "    </tr>\n",
       "    <tr>\n",
       "      <th>4</th>\n",
       "      <td>449263b4-6c93-4f19-8b6a-0d99a29fc637</td>\n",
       "      <td>keyboards</td>\n",
       "      <td>False</td>\n",
       "      <td>bb75bf7d-c008-4267-bf92-6089cff5fe56</td>\n",
       "      <td>5e9405de-a078-4b00-99c6-96564568b63c</td>\n",
       "      <td>c12025e6-6f9c-4728-8c3c-9f840bde6f1a</td>\n",
       "    </tr>\n",
       "  </tbody>\n",
       "</table>\n",
       "</div>"
      ],
      "text/plain": [
       "                    shipment_identifier    product  on_time  \\\n",
       "0  449263b4-6c93-4f19-8b6a-0d99a29fc637      pants    False   \n",
       "1  449263b4-6c93-4f19-8b6a-0d99a29fc637      pants    False   \n",
       "2  449263b4-6c93-4f19-8b6a-0d99a29fc637      pants    False   \n",
       "3  449263b4-6c93-4f19-8b6a-0d99a29fc637  keyboards    False   \n",
       "4  449263b4-6c93-4f19-8b6a-0d99a29fc637  keyboards    False   \n",
       "\n",
       "                       origin_warehouse                     destination_store  \\\n",
       "0  bb75bf7d-c008-4267-bf92-6089cff5fe56  5e9405de-a078-4b00-99c6-96564568b63c   \n",
       "1  bb75bf7d-c008-4267-bf92-6089cff5fe56  5e9405de-a078-4b00-99c6-96564568b63c   \n",
       "2  bb75bf7d-c008-4267-bf92-6089cff5fe56  5e9405de-a078-4b00-99c6-96564568b63c   \n",
       "3  bb75bf7d-c008-4267-bf92-6089cff5fe56  5e9405de-a078-4b00-99c6-96564568b63c   \n",
       "4  bb75bf7d-c008-4267-bf92-6089cff5fe56  5e9405de-a078-4b00-99c6-96564568b63c   \n",
       "\n",
       "                      driver_identifier  \n",
       "0  c12025e6-6f9c-4728-8c3c-9f840bde6f1a  \n",
       "1  c12025e6-6f9c-4728-8c3c-9f840bde6f1a  \n",
       "2  c12025e6-6f9c-4728-8c3c-9f840bde6f1a  \n",
       "3  c12025e6-6f9c-4728-8c3c-9f840bde6f1a  \n",
       "4  c12025e6-6f9c-4728-8c3c-9f840bde6f1a  "
      ]
     },
     "execution_count": 6,
     "metadata": {},
     "output_type": "execute_result"
    }
   ],
   "source": [
    "merged_df = df1.merge(df2, on=\"shipment_identifier\")\n",
    "merged_df.head()"
   ]
  },
  {
   "cell_type": "code",
   "execution_count": 7,
   "id": "54e849e4-3064-4f4d-b7c1-6aa33246a291",
   "metadata": {},
   "outputs": [],
   "source": [
    "merged_df[\"quantity\"] = merged_df.groupby([\"shipment_identifier\", \"product\"])[\"product\"].transform(\"count\")\n"
   ]
  },
  {
   "cell_type": "code",
   "execution_count": 8,
   "id": "0eee354c-4e40-449a-9dcb-5a88c23dc187",
   "metadata": {},
   "outputs": [
    {
     "name": "stdout",
     "output_type": "stream",
     "text": [
      "Index(['shipment_identifier', 'product', 'on_time', 'origin_warehouse',\n",
      "       'destination_store', 'driver_identifier', 'quantity'],\n",
      "      dtype='object')\n"
     ]
    }
   ],
   "source": [
    "print(merged_df.columns)"
   ]
  },
  {
   "cell_type": "code",
   "execution_count": 9,
   "id": "30613050-a115-48ed-9c39-bca9d7037c0e",
   "metadata": {},
   "outputs": [
    {
     "data": {
      "text/html": [
       "<div>\n",
       "<style scoped>\n",
       "    .dataframe tbody tr th:only-of-type {\n",
       "        vertical-align: middle;\n",
       "    }\n",
       "\n",
       "    .dataframe tbody tr th {\n",
       "        vertical-align: top;\n",
       "    }\n",
       "\n",
       "    .dataframe thead th {\n",
       "        text-align: right;\n",
       "    }\n",
       "</style>\n",
       "<table border=\"1\" class=\"dataframe\">\n",
       "  <thead>\n",
       "    <tr style=\"text-align: right;\">\n",
       "      <th></th>\n",
       "      <th>shipment_identifier</th>\n",
       "      <th>product</th>\n",
       "      <th>on_time</th>\n",
       "      <th>origin_warehouse</th>\n",
       "      <th>destination_store</th>\n",
       "      <th>driver_identifier</th>\n",
       "      <th>quantity</th>\n",
       "    </tr>\n",
       "  </thead>\n",
       "  <tbody>\n",
       "    <tr>\n",
       "      <th>0</th>\n",
       "      <td>449263b4-6c93-4f19-8b6a-0d99a29fc637</td>\n",
       "      <td>pants</td>\n",
       "      <td>False</td>\n",
       "      <td>bb75bf7d-c008-4267-bf92-6089cff5fe56</td>\n",
       "      <td>5e9405de-a078-4b00-99c6-96564568b63c</td>\n",
       "      <td>c12025e6-6f9c-4728-8c3c-9f840bde6f1a</td>\n",
       "      <td>3</td>\n",
       "    </tr>\n",
       "    <tr>\n",
       "      <th>1</th>\n",
       "      <td>449263b4-6c93-4f19-8b6a-0d99a29fc637</td>\n",
       "      <td>pants</td>\n",
       "      <td>False</td>\n",
       "      <td>bb75bf7d-c008-4267-bf92-6089cff5fe56</td>\n",
       "      <td>5e9405de-a078-4b00-99c6-96564568b63c</td>\n",
       "      <td>c12025e6-6f9c-4728-8c3c-9f840bde6f1a</td>\n",
       "      <td>3</td>\n",
       "    </tr>\n",
       "    <tr>\n",
       "      <th>2</th>\n",
       "      <td>449263b4-6c93-4f19-8b6a-0d99a29fc637</td>\n",
       "      <td>pants</td>\n",
       "      <td>False</td>\n",
       "      <td>bb75bf7d-c008-4267-bf92-6089cff5fe56</td>\n",
       "      <td>5e9405de-a078-4b00-99c6-96564568b63c</td>\n",
       "      <td>c12025e6-6f9c-4728-8c3c-9f840bde6f1a</td>\n",
       "      <td>3</td>\n",
       "    </tr>\n",
       "    <tr>\n",
       "      <th>3</th>\n",
       "      <td>449263b4-6c93-4f19-8b6a-0d99a29fc637</td>\n",
       "      <td>keyboards</td>\n",
       "      <td>False</td>\n",
       "      <td>bb75bf7d-c008-4267-bf92-6089cff5fe56</td>\n",
       "      <td>5e9405de-a078-4b00-99c6-96564568b63c</td>\n",
       "      <td>c12025e6-6f9c-4728-8c3c-9f840bde6f1a</td>\n",
       "      <td>2</td>\n",
       "    </tr>\n",
       "    <tr>\n",
       "      <th>4</th>\n",
       "      <td>449263b4-6c93-4f19-8b6a-0d99a29fc637</td>\n",
       "      <td>keyboards</td>\n",
       "      <td>False</td>\n",
       "      <td>bb75bf7d-c008-4267-bf92-6089cff5fe56</td>\n",
       "      <td>5e9405de-a078-4b00-99c6-96564568b63c</td>\n",
       "      <td>c12025e6-6f9c-4728-8c3c-9f840bde6f1a</td>\n",
       "      <td>2</td>\n",
       "    </tr>\n",
       "    <tr>\n",
       "      <th>5</th>\n",
       "      <td>76e5b84a-9d09-4efb-8b43-a0c932b958bb</td>\n",
       "      <td>baby food</td>\n",
       "      <td>False</td>\n",
       "      <td>372fd2b1-b2a7-4553-b6d7-426a1bc88e56</td>\n",
       "      <td>e34973c8-9ca9-4a06-b497-7a8b49625fc2</td>\n",
       "      <td>85b8d394-a67c-48b6-b1de-55be323ba622</td>\n",
       "      <td>1</td>\n",
       "    </tr>\n",
       "    <tr>\n",
       "      <th>6</th>\n",
       "      <td>b541a47d-89b1-4805-97d0-1988832321f1</td>\n",
       "      <td>paint</td>\n",
       "      <td>False</td>\n",
       "      <td>469d957f-28ef-4eac-956a-d2a42b06d3ab</td>\n",
       "      <td>fcadc756-61e9-41bb-871b-d3546c5aa981</td>\n",
       "      <td>47bdfc40-f3db-4678-b6a7-43f1e1c2fd32</td>\n",
       "      <td>3</td>\n",
       "    </tr>\n",
       "    <tr>\n",
       "      <th>7</th>\n",
       "      <td>b541a47d-89b1-4805-97d0-1988832321f1</td>\n",
       "      <td>paint</td>\n",
       "      <td>False</td>\n",
       "      <td>469d957f-28ef-4eac-956a-d2a42b06d3ab</td>\n",
       "      <td>fcadc756-61e9-41bb-871b-d3546c5aa981</td>\n",
       "      <td>47bdfc40-f3db-4678-b6a7-43f1e1c2fd32</td>\n",
       "      <td>3</td>\n",
       "    </tr>\n",
       "    <tr>\n",
       "      <th>8</th>\n",
       "      <td>b541a47d-89b1-4805-97d0-1988832321f1</td>\n",
       "      <td>paint</td>\n",
       "      <td>False</td>\n",
       "      <td>469d957f-28ef-4eac-956a-d2a42b06d3ab</td>\n",
       "      <td>fcadc756-61e9-41bb-871b-d3546c5aa981</td>\n",
       "      <td>47bdfc40-f3db-4678-b6a7-43f1e1c2fd32</td>\n",
       "      <td>3</td>\n",
       "    </tr>\n",
       "    <tr>\n",
       "      <th>9</th>\n",
       "      <td>b541a47d-89b1-4805-97d0-1988832321f1</td>\n",
       "      <td>water bottles</td>\n",
       "      <td>False</td>\n",
       "      <td>469d957f-28ef-4eac-956a-d2a42b06d3ab</td>\n",
       "      <td>fcadc756-61e9-41bb-871b-d3546c5aa981</td>\n",
       "      <td>47bdfc40-f3db-4678-b6a7-43f1e1c2fd32</td>\n",
       "      <td>2</td>\n",
       "    </tr>\n",
       "  </tbody>\n",
       "</table>\n",
       "</div>"
      ],
      "text/plain": [
       "                    shipment_identifier        product  on_time  \\\n",
       "0  449263b4-6c93-4f19-8b6a-0d99a29fc637          pants    False   \n",
       "1  449263b4-6c93-4f19-8b6a-0d99a29fc637          pants    False   \n",
       "2  449263b4-6c93-4f19-8b6a-0d99a29fc637          pants    False   \n",
       "3  449263b4-6c93-4f19-8b6a-0d99a29fc637      keyboards    False   \n",
       "4  449263b4-6c93-4f19-8b6a-0d99a29fc637      keyboards    False   \n",
       "5  76e5b84a-9d09-4efb-8b43-a0c932b958bb      baby food    False   \n",
       "6  b541a47d-89b1-4805-97d0-1988832321f1          paint    False   \n",
       "7  b541a47d-89b1-4805-97d0-1988832321f1          paint    False   \n",
       "8  b541a47d-89b1-4805-97d0-1988832321f1          paint    False   \n",
       "9  b541a47d-89b1-4805-97d0-1988832321f1  water bottles    False   \n",
       "\n",
       "                       origin_warehouse                     destination_store  \\\n",
       "0  bb75bf7d-c008-4267-bf92-6089cff5fe56  5e9405de-a078-4b00-99c6-96564568b63c   \n",
       "1  bb75bf7d-c008-4267-bf92-6089cff5fe56  5e9405de-a078-4b00-99c6-96564568b63c   \n",
       "2  bb75bf7d-c008-4267-bf92-6089cff5fe56  5e9405de-a078-4b00-99c6-96564568b63c   \n",
       "3  bb75bf7d-c008-4267-bf92-6089cff5fe56  5e9405de-a078-4b00-99c6-96564568b63c   \n",
       "4  bb75bf7d-c008-4267-bf92-6089cff5fe56  5e9405de-a078-4b00-99c6-96564568b63c   \n",
       "5  372fd2b1-b2a7-4553-b6d7-426a1bc88e56  e34973c8-9ca9-4a06-b497-7a8b49625fc2   \n",
       "6  469d957f-28ef-4eac-956a-d2a42b06d3ab  fcadc756-61e9-41bb-871b-d3546c5aa981   \n",
       "7  469d957f-28ef-4eac-956a-d2a42b06d3ab  fcadc756-61e9-41bb-871b-d3546c5aa981   \n",
       "8  469d957f-28ef-4eac-956a-d2a42b06d3ab  fcadc756-61e9-41bb-871b-d3546c5aa981   \n",
       "9  469d957f-28ef-4eac-956a-d2a42b06d3ab  fcadc756-61e9-41bb-871b-d3546c5aa981   \n",
       "\n",
       "                      driver_identifier  quantity  \n",
       "0  c12025e6-6f9c-4728-8c3c-9f840bde6f1a         3  \n",
       "1  c12025e6-6f9c-4728-8c3c-9f840bde6f1a         3  \n",
       "2  c12025e6-6f9c-4728-8c3c-9f840bde6f1a         3  \n",
       "3  c12025e6-6f9c-4728-8c3c-9f840bde6f1a         2  \n",
       "4  c12025e6-6f9c-4728-8c3c-9f840bde6f1a         2  \n",
       "5  85b8d394-a67c-48b6-b1de-55be323ba622         1  \n",
       "6  47bdfc40-f3db-4678-b6a7-43f1e1c2fd32         3  \n",
       "7  47bdfc40-f3db-4678-b6a7-43f1e1c2fd32         3  \n",
       "8  47bdfc40-f3db-4678-b6a7-43f1e1c2fd32         3  \n",
       "9  47bdfc40-f3db-4678-b6a7-43f1e1c2fd32         2  "
      ]
     },
     "execution_count": 9,
     "metadata": {},
     "output_type": "execute_result"
    }
   ],
   "source": [
    "merged_df.head(10)"
   ]
  },
  {
   "cell_type": "code",
   "execution_count": 12,
   "id": "4c2a83de-14b3-4cdf-81f7-08bd6e604e9f",
   "metadata": {},
   "outputs": [],
   "source": [
    "merged_df[\"total_quantity\"] = merged_df.groupby([\"shipment_identifier\", \"product\"])[\"quantity\"].transform(\"sum\")"
   ]
  },
  {
   "cell_type": "code",
   "execution_count": 13,
   "id": "8783d104-da57-47f1-99c3-d0f9cdfa7386",
   "metadata": {},
   "outputs": [],
   "source": [
    "merged_df = merged_df.drop_duplicates(subset=[\"shipment_identifier\", \"product\"])\n"
   ]
  },
  {
   "cell_type": "code",
   "execution_count": 14,
   "id": "36cce640-5827-40c4-9e21-2e9cfc1c7816",
   "metadata": {},
   "outputs": [
    {
     "data": {
      "text/html": [
       "<div>\n",
       "<style scoped>\n",
       "    .dataframe tbody tr th:only-of-type {\n",
       "        vertical-align: middle;\n",
       "    }\n",
       "\n",
       "    .dataframe tbody tr th {\n",
       "        vertical-align: top;\n",
       "    }\n",
       "\n",
       "    .dataframe thead th {\n",
       "        text-align: right;\n",
       "    }\n",
       "</style>\n",
       "<table border=\"1\" class=\"dataframe\">\n",
       "  <thead>\n",
       "    <tr style=\"text-align: right;\">\n",
       "      <th></th>\n",
       "      <th>shipment_identifier</th>\n",
       "      <th>product</th>\n",
       "      <th>on_time</th>\n",
       "      <th>origin_warehouse</th>\n",
       "      <th>destination_store</th>\n",
       "      <th>driver_identifier</th>\n",
       "      <th>quantity</th>\n",
       "      <th>total_quantity</th>\n",
       "    </tr>\n",
       "  </thead>\n",
       "  <tbody>\n",
       "    <tr>\n",
       "      <th>0</th>\n",
       "      <td>449263b4-6c93-4f19-8b6a-0d99a29fc637</td>\n",
       "      <td>pants</td>\n",
       "      <td>False</td>\n",
       "      <td>bb75bf7d-c008-4267-bf92-6089cff5fe56</td>\n",
       "      <td>5e9405de-a078-4b00-99c6-96564568b63c</td>\n",
       "      <td>c12025e6-6f9c-4728-8c3c-9f840bde6f1a</td>\n",
       "      <td>3</td>\n",
       "      <td>9</td>\n",
       "    </tr>\n",
       "    <tr>\n",
       "      <th>3</th>\n",
       "      <td>449263b4-6c93-4f19-8b6a-0d99a29fc637</td>\n",
       "      <td>keyboards</td>\n",
       "      <td>False</td>\n",
       "      <td>bb75bf7d-c008-4267-bf92-6089cff5fe56</td>\n",
       "      <td>5e9405de-a078-4b00-99c6-96564568b63c</td>\n",
       "      <td>c12025e6-6f9c-4728-8c3c-9f840bde6f1a</td>\n",
       "      <td>2</td>\n",
       "      <td>4</td>\n",
       "    </tr>\n",
       "    <tr>\n",
       "      <th>5</th>\n",
       "      <td>76e5b84a-9d09-4efb-8b43-a0c932b958bb</td>\n",
       "      <td>baby food</td>\n",
       "      <td>False</td>\n",
       "      <td>372fd2b1-b2a7-4553-b6d7-426a1bc88e56</td>\n",
       "      <td>e34973c8-9ca9-4a06-b497-7a8b49625fc2</td>\n",
       "      <td>85b8d394-a67c-48b6-b1de-55be323ba622</td>\n",
       "      <td>1</td>\n",
       "      <td>1</td>\n",
       "    </tr>\n",
       "    <tr>\n",
       "      <th>6</th>\n",
       "      <td>b541a47d-89b1-4805-97d0-1988832321f1</td>\n",
       "      <td>paint</td>\n",
       "      <td>False</td>\n",
       "      <td>469d957f-28ef-4eac-956a-d2a42b06d3ab</td>\n",
       "      <td>fcadc756-61e9-41bb-871b-d3546c5aa981</td>\n",
       "      <td>47bdfc40-f3db-4678-b6a7-43f1e1c2fd32</td>\n",
       "      <td>3</td>\n",
       "      <td>9</td>\n",
       "    </tr>\n",
       "    <tr>\n",
       "      <th>9</th>\n",
       "      <td>b541a47d-89b1-4805-97d0-1988832321f1</td>\n",
       "      <td>water bottles</td>\n",
       "      <td>False</td>\n",
       "      <td>469d957f-28ef-4eac-956a-d2a42b06d3ab</td>\n",
       "      <td>fcadc756-61e9-41bb-871b-d3546c5aa981</td>\n",
       "      <td>47bdfc40-f3db-4678-b6a7-43f1e1c2fd32</td>\n",
       "      <td>2</td>\n",
       "      <td>4</td>\n",
       "    </tr>\n",
       "  </tbody>\n",
       "</table>\n",
       "</div>"
      ],
      "text/plain": [
       "                    shipment_identifier        product  on_time  \\\n",
       "0  449263b4-6c93-4f19-8b6a-0d99a29fc637          pants    False   \n",
       "3  449263b4-6c93-4f19-8b6a-0d99a29fc637      keyboards    False   \n",
       "5  76e5b84a-9d09-4efb-8b43-a0c932b958bb      baby food    False   \n",
       "6  b541a47d-89b1-4805-97d0-1988832321f1          paint    False   \n",
       "9  b541a47d-89b1-4805-97d0-1988832321f1  water bottles    False   \n",
       "\n",
       "                       origin_warehouse                     destination_store  \\\n",
       "0  bb75bf7d-c008-4267-bf92-6089cff5fe56  5e9405de-a078-4b00-99c6-96564568b63c   \n",
       "3  bb75bf7d-c008-4267-bf92-6089cff5fe56  5e9405de-a078-4b00-99c6-96564568b63c   \n",
       "5  372fd2b1-b2a7-4553-b6d7-426a1bc88e56  e34973c8-9ca9-4a06-b497-7a8b49625fc2   \n",
       "6  469d957f-28ef-4eac-956a-d2a42b06d3ab  fcadc756-61e9-41bb-871b-d3546c5aa981   \n",
       "9  469d957f-28ef-4eac-956a-d2a42b06d3ab  fcadc756-61e9-41bb-871b-d3546c5aa981   \n",
       "\n",
       "                      driver_identifier  quantity  total_quantity  \n",
       "0  c12025e6-6f9c-4728-8c3c-9f840bde6f1a         3               9  \n",
       "3  c12025e6-6f9c-4728-8c3c-9f840bde6f1a         2               4  \n",
       "5  85b8d394-a67c-48b6-b1de-55be323ba622         1               1  \n",
       "6  47bdfc40-f3db-4678-b6a7-43f1e1c2fd32         3               9  \n",
       "9  47bdfc40-f3db-4678-b6a7-43f1e1c2fd32         2               4  "
      ]
     },
     "execution_count": 14,
     "metadata": {},
     "output_type": "execute_result"
    }
   ],
   "source": [
    "merged_df.head()\n"
   ]
  },
  {
   "cell_type": "code",
   "execution_count": 15,
   "id": "49c1cf86-181a-4ec0-a04b-351c568d1cf0",
   "metadata": {},
   "outputs": [],
   "source": [
    "create_table_query = \"\"\"\n",
    "CREATE TABLE IF NOT EXISTS shipments (\n",
    "    id INTEGER PRIMARY KEY AUTOINCREMENT,\n",
    "    shipment_identifier TEXT,\n",
    "    product TEXT,\n",
    "    total_quantity INTEGER,\n",
    "    origin_warehouse TEXT,\n",
    "    destination_store TEXT\n",
    ")\n",
    "\"\"\"\n",
    "cursor.execute(create_table_query)\n",
    "conn.commit()\n"
   ]
  },
  {
   "cell_type": "code",
   "execution_count": 17,
   "id": "d7f6d640-064f-4b5e-8906-689b75a68431",
   "metadata": {},
   "outputs": [
    {
     "name": "stdout",
     "output_type": "stream",
     "text": [
      "[(0, 'id', 'INTEGER', 0, None, 1), (1, 'shipping_id', 'TEXT', 0, None, 0), (2, 'product_name', 'TEXT', 0, None, 0), (3, 'total_quantity', 'INTEGER', 0, None, 0), (4, 'origin', 'TEXT', 0, None, 0), (5, 'destination', 'TEXT', 0, None, 0)]\n"
     ]
    }
   ],
   "source": [
    "cursor.execute(\"PRAGMA table_info(shipments)\")\n",
    "print(cursor.fetchall())"
   ]
  },
  {
   "cell_type": "code",
   "execution_count": 19,
   "id": "05e28607-8cc1-4b2a-99b9-0fc970d78e55",
   "metadata": {},
   "outputs": [],
   "source": [
    "merged_df = merged_df.rename(columns={\n",
    "    \"shipment_identifier\": \"shipping_id\",\n",
    "    \"product\": \"product_name\",\n",
    "    \"origin_warehouse\": \"origin\",\n",
    "    \"destination_store\": \"destination\"\n",
    "})"
   ]
  },
  {
   "cell_type": "code",
   "execution_count": 20,
   "id": "bd4211cb-3fa3-474d-bf88-62fe3ab1a805",
   "metadata": {},
   "outputs": [],
   "source": [
    "merged_df = merged_df[[\"shipping_id\", \"product_name\", \"total_quantity\", \"origin\", \"destination\"]]"
   ]
  },
  {
   "cell_type": "code",
   "execution_count": 21,
   "id": "71155ede-1bf1-4dc9-949f-22980c2c27b1",
   "metadata": {},
   "outputs": [
    {
     "name": "stdout",
     "output_type": "stream",
     "text": [
      "Index(['shipping_id', 'product_name', 'total_quantity', 'origin',\n",
      "       'destination'],\n",
      "      dtype='object')\n"
     ]
    }
   ],
   "source": [
    "print(merged_df.columns)\n"
   ]
  },
  {
   "cell_type": "code",
   "execution_count": 22,
   "id": "5b0b6a78-2cfb-46ba-ad33-b55bc6e68ac5",
   "metadata": {},
   "outputs": [
    {
     "name": "stdout",
     "output_type": "stream",
     "text": [
      "Data inserted successfully!\n"
     ]
    }
   ],
   "source": [
    "merged_df.to_sql(\"shipments\", conn, if_exists=\"append\", index=False)\n",
    "\n",
    "print(\"Data inserted successfully!\")"
   ]
  },
  {
   "cell_type": "code",
   "execution_count": 23,
   "id": "38c1c282-7a65-4d52-b8f2-80ac39104b97",
   "metadata": {},
   "outputs": [
    {
     "name": "stdout",
     "output_type": "stream",
     "text": [
      "[(1, '449263b4-6c93-4f19-8b6a-0d99a29fc637', 'pants', 13, 'bb75bf7d-c008-4267-bf92-6089cff5fe56', '5e9405de-a078-4b00-99c6-96564568b63c'), (2, '449263b4-6c93-4f19-8b6a-0d99a29fc637', 'pants', 13, 'bb75bf7d-c008-4267-bf92-6089cff5fe56', '5e9405de-a078-4b00-99c6-96564568b63c'), (3, '449263b4-6c93-4f19-8b6a-0d99a29fc637', 'pants', 13, 'bb75bf7d-c008-4267-bf92-6089cff5fe56', '5e9405de-a078-4b00-99c6-96564568b63c'), (4, '449263b4-6c93-4f19-8b6a-0d99a29fc637', 'keyboards', 13, 'bb75bf7d-c008-4267-bf92-6089cff5fe56', '5e9405de-a078-4b00-99c6-96564568b63c'), (5, '449263b4-6c93-4f19-8b6a-0d99a29fc637', 'keyboards', 13, 'bb75bf7d-c008-4267-bf92-6089cff5fe56', '5e9405de-a078-4b00-99c6-96564568b63c')]\n"
     ]
    }
   ],
   "source": [
    "cursor.execute(\"SELECT * FROM shipments LIMIT 5\")\n",
    "print(cursor.fetchall())"
   ]
  },
  {
   "cell_type": "code",
   "execution_count": 24,
   "id": "2ab3a2cd-8e4a-452b-a0f0-346af5e548c2",
   "metadata": {},
   "outputs": [
    {
     "name": "stdout",
     "output_type": "stream",
     "text": [
      "Database connection closed.\n"
     ]
    }
   ],
   "source": [
    "conn.close()\n",
    "print(\"Database connection closed.\")\n"
   ]
  },
  {
   "cell_type": "code",
   "execution_count": null,
   "id": "56c2ec58-1f44-45f8-9f58-1a2dbad16135",
   "metadata": {},
   "outputs": [],
   "source": []
  }
 ],
 "metadata": {
  "kernelspec": {
   "display_name": "Python 3 (ipykernel)",
   "language": "python",
   "name": "python3"
  },
  "language_info": {
   "codemirror_mode": {
    "name": "ipython",
    "version": 3
   },
   "file_extension": ".py",
   "mimetype": "text/x-python",
   "name": "python",
   "nbconvert_exporter": "python",
   "pygments_lexer": "ipython3",
   "version": "3.12.8"
  }
 },
 "nbformat": 4,
 "nbformat_minor": 5
}
